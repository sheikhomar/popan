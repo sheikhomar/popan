{
 "cells": [
  {
   "cell_type": "markdown",
   "metadata": {},
   "source": [
    "# MNIST Original"
   ]
  },
  {
   "cell_type": "code",
   "execution_count": 18,
   "metadata": {},
   "outputs": [],
   "source": [
    "import numpy as np\n",
    "import pandas as pd\n",
    "import seaborn as sns\n",
    "import matplotlib.pyplot as plt\n",
    "from sklearn.model_selection import train_test_split\n",
    "from sklearn.metrics import classification_report, confusion_matrix\n",
    "import sys\n",
    "import os\n",
    "import importlib\n",
    "\n",
    "sys.path.insert(1, os.path.realpath(os.path.pardir))\n",
    "\n",
    "import mnist as mnist\n",
    "import utils as utils\n",
    "\n",
    "importlib.reload(utils);\n",
    "importlib.reload(mnist);"
   ]
  },
  {
   "cell_type": "code",
   "execution_count": 13,
   "metadata": {},
   "outputs": [],
   "source": [
    "X_train, X_test, y_train, y_test = mnist.load_data()\n",
    "X = np.concatenate((X_train, X_test))\n",
    "y = np.concatenate((y_train, y_test))\n"
   ]
  },
  {
   "cell_type": "code",
   "execution_count": 27,
   "metadata": {},
   "outputs": [
    {
     "name": "stdout",
     "output_type": "stream",
     "text": [
      "              precision    recall  f1-score   support\n",
      "\n",
      "           0       0.89      0.95      0.92      2278\n",
      "           1       0.81      0.97      0.88      2599\n",
      "           2       0.91      0.79      0.84      2307\n",
      "           3       0.82      0.84      0.83      2357\n",
      "           4       0.84      0.88      0.86      2252\n",
      "           5       0.88      0.72      0.79      2083\n",
      "           6       0.89      0.92      0.91      2269\n",
      "           7       0.86      0.87      0.86      2407\n",
      "           8       0.83      0.75      0.79      2252\n",
      "           9       0.81      0.79      0.80      2296\n",
      "\n",
      "   micro avg       0.85      0.85      0.85     23100\n",
      "   macro avg       0.85      0.85      0.85     23100\n",
      "weighted avg       0.85      0.85      0.85     23100\n",
      "\n"
     ]
    }
   ],
   "source": [
    "X_train, X_test, y_train, y_test = mnist.load_data()\n",
    "X = np.concatenate((X_train, X_test))\n",
    "y = np.concatenate((y_train, y_test))\n",
    "\n",
    "classifier = utils.load_classifier_with_best_params('pmse', 'mnist', with_pca=False)\n",
    "X_train, X_test, y_train, y_test = train_test_split(X, y, stratify=y, test_size=0.33, random_state=42)\n",
    "classifier.fit(X_train, y_train)\n",
    "\n",
    "y_pred = classifier.predict(X_test)\n",
    "\n",
    "print(classification_report(y_test, y_pred))"
   ]
  },
  {
   "cell_type": "code",
   "execution_count": 24,
   "metadata": {},
   "outputs": [
    {
     "name": "stdout",
     "output_type": "stream",
     "text": [
      "              precision    recall  f1-score   support\n",
      "\n",
      "           0       0.95      0.95      0.95      2278\n",
      "           1       0.95      0.96      0.95      2599\n",
      "           2       0.90      0.88      0.89      2307\n",
      "           3       0.88      0.88      0.88      2357\n",
      "           4       0.91      0.91      0.91      2252\n",
      "           5       0.82      0.85      0.83      2083\n",
      "           6       0.95      0.94      0.94      2269\n",
      "           7       0.93      0.91      0.92      2407\n",
      "           8       0.80      0.88      0.84      2252\n",
      "           9       0.90      0.84      0.87      2296\n",
      "\n",
      "   micro avg       0.90      0.90      0.90     23100\n",
      "   macro avg       0.90      0.90      0.90     23100\n",
      "weighted avg       0.90      0.90      0.90     23100\n",
      "\n"
     ]
    }
   ],
   "source": [
    "X_train, X_test, y_train, y_test = mnist.load_data()\n",
    "X = np.concatenate((X_train, X_test))\n",
    "y = np.concatenate((y_train, y_test))\n",
    "\n",
    "classifier = utils.load_classifier_with_best_params('pback', 'mnist', with_pca=False)\n",
    "\n",
    "X_train, X_test, y_train, y_test = train_test_split(X, y, stratify=y, test_size=0.33, random_state=42)\n",
    "classifier.fit(X_train, y_train)\n",
    "\n",
    "y_pred = classifier.predict(X_test)\n",
    "\n",
    "print(classification_report(y_test, y_pred))"
   ]
  },
  {
   "cell_type": "code",
   "execution_count": null,
   "metadata": {},
   "outputs": [],
   "source": []
  }
 ],
 "metadata": {
  "kernelspec": {
   "display_name": "Python 3",
   "language": "python",
   "name": "python3"
  },
  "language_info": {
   "codemirror_mode": {
    "name": "ipython",
    "version": 3
   },
   "file_extension": ".py",
   "mimetype": "text/x-python",
   "name": "python",
   "nbconvert_exporter": "python",
   "pygments_lexer": "ipython3",
   "version": "3.6.6"
  }
 },
 "nbformat": 4,
 "nbformat_minor": 2
}
